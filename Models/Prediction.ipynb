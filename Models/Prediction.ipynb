{
 "cells": [
  {
   "cell_type": "code",
   "execution_count": 1,
   "metadata": {},
   "outputs": [],
   "source": [
    "import praw"
   ]
  },
  {
   "cell_type": "code",
   "execution_count": 3,
   "metadata": {},
   "outputs": [],
   "source": [
    "reddit = praw.Reddit(client_id = \"udo3Q8u5ZjWoTw\", \n",
    "                     client_secret = \"yNiOW6McpesaIbhiJjMeM-zlH_U\", \n",
    "                     user_agent = \"Testing_api\")"
   ]
  },
  {
   "cell_type": "code",
   "execution_count": 4,
   "metadata": {},
   "outputs": [],
   "source": [
    "submission = reddit.submission(url=\"https://www.reddit.com/r/india/comments/g0f72k/a_comprehensive_look_at_covid_surveillance_and/\")"
   ]
  },
  {
   "cell_type": "code",
   "execution_count": 5,
   "metadata": {},
   "outputs": [],
   "source": [
    "data = {}\n",
    "data['title'] = submission.title\n",
    "data['url'] = submission.url\n",
    "data['body'] = submission.selftext"
   ]
  },
  {
   "cell_type": "code",
   "execution_count": 6,
   "metadata": {},
   "outputs": [
    {
     "data": {
      "text/plain": [
       "{'title': 'A comprehensive look at Covid Surveillance and Privacy in India',\n",
       " 'url': 'https://www.reddit.com/r/india/comments/g0f72k/a_comprehensive_look_at_covid_surveillance_and/',\n",
       " 'body': 'https://preview.redd.it/5vdy8f5stjs41.png?width=1024&format=png&auto=webp&s=2ba025c1f8080b30fbfee028df1d46da2349d9e7\\n\\n## Tl;dr\\n\\nWith a view to address the public health challenges due to Covid-19 a range of technology interventions are being developed that impact personal privacy. We at IFF have been watching it with concern and have authored a comprehensive working paper to inform public policy formation in India. \\xa0This includes a substantive analysis of the use and publication of health data, specific development of surveillance technologies around location tracking and finally the deployment of contact tracing through handheld device applications.\\n\\nWe devote substantial space to a front-end analysis of three contact applications Singapore’s TraceTogether, MIT’s Private Kit : Safe Path’s Project and Aarogya Setu. We also consider the possible public policy and rights related ramifications of the recent announcement of a partnership between Apple and Google towards contact tracing. \\xa0To conclude we make substantial prescriptions premised primarily on the legal framework of the Indian Supreme Court’s developing jurisprudence on the fundamental right to privacy. Over this week, we are going through a series of posts explaining how we can protect our health and privacy at the same time. It\\'s possible if we try!\\n\\n## Re-framing the Privacy and Public Health trade-off\\n\\nThe world seems like a distressing place right now irrespective of the number of pick-me up videos from celebrities and influencers. A reason for this worry includes the substantial erosion of civil liberties such as the freedom of assembly and movement due to the advice from policy makers to maintain social distancing due to the Covid-19 pandemic. In these extraordinary times, it is very likely that the lockdown may not be a permanent feature of life and we again be able to meet our friends, family and colleagues in person.\\n\\nHowever, there are repeated warnings that some systems which are being developed and deployed will outlast the length of the pandemic. This prominently features fears of mass surveillance which hallows out democratic systems with incredible effectiveness. At the same time technology based solutions, in a digital society provide for incredible facility in effectively tracing the path of infection of the Covid virus. One such solution which is being offered as being a compromise on privacy for the greater, common good is the Aarogya Setu App by the Government of India.\\n\\nRecognising the digital nature of our society, we must press each available facility including technology to neuter the threat posed by Covid. This must be done in a rights respecting manner, and to make sure that such a realignment in policy priorities are made possible we have worked at pace to develop an exhaustive working paper that poses concerns and offers solutions on the path forward.\\n\\n## Overview of the working paper\\n\\nThis [**working paper**](https://docs.google.com/document/d/1nDoPzygQyTetEguOlzula5O9y5f3f5YJDsA2Pd99O6U/edit?usp=sharing) is a comprehensive effort spanning 88 pages and 9 sections. The first two sections are devoted to the basic premises of public health requirements and the existing legal framework for the fundamental right to privacy. We have then in the next three sections looked extensively at the three primary methods how technology based interventions have impact on the fundamental right to privacy. Starting with the collection, use and dissemination of personal data which includes lists of people who have been placed in quarantine. Then going towards location based tracking and finally contact tracing. All three sections contain an analysis of influential literature and also some case studies to provide granular recommendations.\\n\\nFollowing this we also analyse the incentives which need to be factored to increase user adoption of technology interventions, which we premise is based on growing trust. This can be achieved by respecting a person’s autonomy and has to be done in a manner which respects their rights. To illustrate how a contact tracing system can be built around these prescriptions, the paper builds out a front-end analysis of three contact applications Singapore’s TraceTogether, MIT’s Private Kit : Safe Path’s Project and Aarogya Setu (Pages 59-73) in Section 7. We also look at the Apple-Google partnership and the promise that it holds, but also indicate the unique risks which emerge from trans-national, silicon valley companies deploying such solutions which requires a heightened level of scrutiny.\\n\\nFinally, we end with an appeal to policymakers stating, “.Adapting a silicon valley adage, if we move fast, we may just break more than things -- possibly, even democracy itself. It is hoped that this working paper provides policy makers in India with an opportunity to pause, reflect and consider that constitutional imperatives of personal privacy must steer technology based responses to the Covid-19 pandemic.”\\n\\n## We have three primary objectives from this working paper\\n\\n*A comprehensive map on Covid technology interventions:* Our first and preliminary interest has been towards consolidating the incredible amount of literature on the technology based interventions that grows everyday. This is to document, analyse and then later pose solutions. We have here aimed to learn from the practices and learnings from several foriegn jurisdictions that can aid thinking in India.\\n\\n*Breaking the digital rights and technology development silos:* Today technology based interventions are being designed they are driven out of a desire to immediately address the health and safety of large populations. These are increasingly done by technologists and programmers who may require detailed literature on digital rights and the implications for democratic guarantees. We hope this paper which undertakes specific case study analysis helps assist design based thinking and provides for actionable guidance in a manner which protects people holistically by safeguarding their health and privacy.\\n\\n*Collaborative solutions for government:* We don\\'t have all the answers. But, maybe if we work together, some credible suggestions can be made to the government. Covid has brought a sense of urgency to collaboration and we hope to take your suggestions through this week and then submit this working paper to Government authorities. To facilitate ease of comment we are hosting it on [Google Docs](https://docs.google.com/document/d/1nDoPzygQyTetEguOlzula5O9y5f3f5YJDsA2Pd99O6U/edit?usp=sharing) with the functionality for comment and review. In addition to this please do engage with the wider community over at the [**Internet Freedom Forum**](https://forum.internetfreedom.in/).\\n\\n## What does IFF plan to do with this working paper?\\n\\nWe will first work through this week with a series of explainers on our website to break it down into smaller, digestible pieces. So for instance by day after we plan to publish our case study comparison of contact tracing apps. This will be followed up by a further explainer on action based solutions to aid and assist policy makers. Based on feedback we receive through the week will also reach out to government, technologists, academics and experts.\\n\\nThis working paper is only one of the many public advocacy strategies in our tool kit to protect your privacy and fight against mass surveillance. For instance we have already filed RTIs to improve transparency in the development of such technology based interventions. More action will be taken as we continue to advocate for the protection of personal privacy along with public health.\\n\\n## Links to our Covid related work\\n\\n1. Working paper \"Privacy prescriptions for technology interventions around Covid-19 in India\" \\xa0dated April 13, 2020 ([**Google Docs version**](https://docs.google.com/document/d/1nDoPzygQyTetEguOlzula5O9y5f3f5YJDsA2Pd99O6U/edit?usp=sharing) / [**PDF Version**](https://drive.google.com/file/d/1UK5rElhcdP5T3Y-8fYP6cCgQKKpQBeOX/view?usp=sharing))\\n2. Representation to the Department for Telecom on ensuring connectivity and protecting net neutrality due to higher dependency on telecom networks ([**link**](https://internetfreedom.in/urgent-steps-to-be-taken-by-the-department-of-telecom-due-to-the-covid/))\\n3. Representation to the Ministry of Health to issue an advisory against the disclosure of the names of persons placed under quarantine ([**link**](https://internetfreedom.in/quarantine-list/))\\n4. Petition before the Supreme Court to restore 4G connectivity in Jammu and Kashmir to properly equip healthcare professional around Covid-19 ([**link**](https://internetfreedom.in/sc-issues-notice-in-fmps-petition-seeking-restoration-of-4g-internet-services-in-jammu-kashmir-during-covid-19-crisis/))\\n\\n[***The Corona virus is a not only a threat to our health. It is a threat to democracy. We need your help now more than ever. Please donate to IFF today and become a member.***](https://internetfreedom.in/donate/)'}"
      ]
     },
     "execution_count": 6,
     "metadata": {},
     "output_type": "execute_result"
    }
   ],
   "source": [
    "data"
   ]
  },
  {
   "cell_type": "code",
   "execution_count": null,
   "metadata": {},
   "outputs": [],
   "source": []
  }
 ],
 "metadata": {
  "kernelspec": {
   "display_name": "Python 3",
   "language": "python",
   "name": "python3"
  },
  "language_info": {
   "codemirror_mode": {
    "name": "ipython",
    "version": 3
   },
   "file_extension": ".py",
   "mimetype": "text/x-python",
   "name": "python",
   "nbconvert_exporter": "python",
   "pygments_lexer": "ipython3",
   "version": "3.7.7"
  }
 },
 "nbformat": 4,
 "nbformat_minor": 4
}
