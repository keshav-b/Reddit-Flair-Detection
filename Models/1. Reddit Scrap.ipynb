{
 "cells": [
  {
   "cell_type": "markdown",
   "metadata": {},
   "source": [
    "### Importing Reddit's API, PRAW to scrap subreddits, and Pandas"
   ]
  },
  {
   "cell_type": "code",
   "execution_count": 1,
   "metadata": {},
   "outputs": [],
   "source": [
    "import praw\n",
    "import pandas as pd"
   ]
  },
  {
   "cell_type": "markdown",
   "metadata": {},
   "source": [
    "### Initialising the Reddit object with user's credentials"
   ]
  },
  {
   "cell_type": "code",
   "execution_count": 2,
   "metadata": {},
   "outputs": [],
   "source": [
    "reddit = praw.Reddit(client_id = \"*\", \n",
    "                     client_secret = \"*\", \n",
    "                     user_agent = \"*\")"
   ]
  },
  {
   "cell_type": "markdown",
   "metadata": {},
   "source": [
    "### Choosing the subreddit of r/india"
   ]
  },
  {
   "cell_type": "code",
   "execution_count": 3,
   "metadata": {},
   "outputs": [],
   "source": [
    "subred = reddit.subreddit('india')"
   ]
  },
  {
   "cell_type": "markdown",
   "metadata": {},
   "source": [
    "## Considering \"hot\", \"top\", \"new\" and \"controversial\" filters to scrap subreddits"
   ]
  },
  {
   "cell_type": "code",
   "execution_count": 4,
   "metadata": {},
   "outputs": [],
   "source": [
    "hot = subred.hot(limit=3000)\n",
    "top = subred.top(limit=3000)\n",
    "controversial = subred.controversial(limit=3000)\n",
    "new = subred.new(limit=3000)"
   ]
  },
  {
   "cell_type": "code",
   "execution_count": 5,
   "metadata": {},
   "outputs": [
    {
     "data": {
      "text/plain": [
       "praw.models.listing.generator.ListingGenerator"
      ]
     },
     "execution_count": 5,
     "metadata": {},
     "output_type": "execute_result"
    }
   ],
   "source": [
    "type(hot)"
   ]
  },
  {
   "cell_type": "markdown",
   "metadata": {},
   "source": [
    "### Initilizing a dictionary \"data\" to store the scrapped data"
   ]
  },
  {
   "cell_type": "code",
   "execution_count": 6,
   "metadata": {},
   "outputs": [],
   "source": [
    "data = {\"id\":[], \"title\":[], \"url\":[], \"body\":[], \"flair\":[]}"
   ]
  },
  {
   "cell_type": "markdown",
   "metadata": {},
   "source": [
    "### Getting data from corresponding filtered subreddits and appending in \"data\""
   ]
  },
  {
   "cell_type": "code",
   "execution_count": 7,
   "metadata": {},
   "outputs": [],
   "source": [
    "for i in hot:\n",
    "    \n",
    "    data['id'].append(i.id)\n",
    "    data['title'].append(i.title)\n",
    "    data['url'].append(i.url)\n",
    "    data['body'].append(i.selftext)    \n",
    "    data['flair'].append(i.link_flair_text)    "
   ]
  },
  {
   "cell_type": "code",
   "execution_count": 8,
   "metadata": {},
   "outputs": [],
   "source": [
    "for i in top:\n",
    "    \n",
    "    data['id'].append(i.id)\n",
    "    data['title'].append(i.title)\n",
    "    data['url'].append(i.url)\n",
    "    data['body'].append(i.selftext)    \n",
    "    data['flair'].append(i.link_flair_text)"
   ]
  },
  {
   "cell_type": "code",
   "execution_count": 9,
   "metadata": {},
   "outputs": [],
   "source": [
    "for i in controversial:\n",
    "    \n",
    "    data['id'].append(i.id)\n",
    "    data['title'].append(i.title)\n",
    "    data['url'].append(i.url)\n",
    "    data['body'].append(i.selftext)    \n",
    "    data['flair'].append(i.link_flair_text)"
   ]
  },
  {
   "cell_type": "code",
   "execution_count": 10,
   "metadata": {},
   "outputs": [],
   "source": [
    "for i in new:\n",
    "    \n",
    "    data['id'].append(i.id)\n",
    "    data['title'].append(i.title)\n",
    "    data['url'].append(i.url)\n",
    "    data['body'].append(i.selftext)    \n",
    "    data['flair'].append(i.link_flair_text)"
   ]
  },
  {
   "cell_type": "markdown",
   "metadata": {},
   "source": [
    "### Converting the dictionary to a Pandas DataFrame"
   ]
  },
  {
   "cell_type": "code",
   "execution_count": 11,
   "metadata": {},
   "outputs": [],
   "source": [
    "import pandas as pd\n",
    "df = pd.DataFrame(data)"
   ]
  },
  {
   "cell_type": "code",
   "execution_count": 12,
   "metadata": {},
   "outputs": [
    {
     "data": {
      "text/html": [
       "<div>\n",
       "<style scoped>\n",
       "    .dataframe tbody tr th:only-of-type {\n",
       "        vertical-align: middle;\n",
       "    }\n",
       "\n",
       "    .dataframe tbody tr th {\n",
       "        vertical-align: top;\n",
       "    }\n",
       "\n",
       "    .dataframe thead th {\n",
       "        text-align: right;\n",
       "    }\n",
       "</style>\n",
       "<table border=\"1\" class=\"dataframe\">\n",
       "  <thead>\n",
       "    <tr style=\"text-align: right;\">\n",
       "      <th></th>\n",
       "      <th>id</th>\n",
       "      <th>title</th>\n",
       "      <th>url</th>\n",
       "      <th>body</th>\n",
       "      <th>flair</th>\n",
       "    </tr>\n",
       "  </thead>\n",
       "  <tbody>\n",
       "    <tr>\n",
       "      <th>0</th>\n",
       "      <td>g1zi21</td>\n",
       "      <td>Coronavirus (COVID-19) Megathread - News and U...</td>\n",
       "      <td>https://www.reddit.com/r/india/comments/g1zi21...</td>\n",
       "      <td>###[Covid-19 Fundraisers &amp; Donation Links](htt...</td>\n",
       "      <td>Coronavirus</td>\n",
       "    </tr>\n",
       "    <tr>\n",
       "      <th>1</th>\n",
       "      <td>g4a2ux</td>\n",
       "      <td>Karnataka CM Yediyurappa defends Kumaraswamy s...</td>\n",
       "      <td>https://www.indiatoday.in/india/story/karnatak...</td>\n",
       "      <td></td>\n",
       "      <td>Coronavirus</td>\n",
       "    </tr>\n",
       "    <tr>\n",
       "      <th>2</th>\n",
       "      <td>g4b8we</td>\n",
       "      <td>Pregnant woman in Bengaluru walks 5 km in sear...</td>\n",
       "      <td>https://www.thenewsminute.com/article/pregnant...</td>\n",
       "      <td></td>\n",
       "      <td>Coronavirus</td>\n",
       "    </tr>\n",
       "    <tr>\n",
       "      <th>3</th>\n",
       "      <td>g4jmo6</td>\n",
       "      <td>Nisha Jindal, with 10k FB fans, turns out to b...</td>\n",
       "      <td>https://timesofindia.indiatimes.com/india/nish...</td>\n",
       "      <td></td>\n",
       "      <td>Non-Political</td>\n",
       "    </tr>\n",
       "    <tr>\n",
       "      <th>4</th>\n",
       "      <td>g4c5u3</td>\n",
       "      <td>Goa becomes coronavirus-free after last active...</td>\n",
       "      <td>https://www.timesnownews.com/india/article/goa...</td>\n",
       "      <td></td>\n",
       "      <td>Coronavirus</td>\n",
       "    </tr>\n",
       "  </tbody>\n",
       "</table>\n",
       "</div>"
      ],
      "text/plain": [
       "       id                                              title  \\\n",
       "0  g1zi21  Coronavirus (COVID-19) Megathread - News and U...   \n",
       "1  g4a2ux  Karnataka CM Yediyurappa defends Kumaraswamy s...   \n",
       "2  g4b8we  Pregnant woman in Bengaluru walks 5 km in sear...   \n",
       "3  g4jmo6  Nisha Jindal, with 10k FB fans, turns out to b...   \n",
       "4  g4c5u3  Goa becomes coronavirus-free after last active...   \n",
       "\n",
       "                                                 url  \\\n",
       "0  https://www.reddit.com/r/india/comments/g1zi21...   \n",
       "1  https://www.indiatoday.in/india/story/karnatak...   \n",
       "2  https://www.thenewsminute.com/article/pregnant...   \n",
       "3  https://timesofindia.indiatimes.com/india/nish...   \n",
       "4  https://www.timesnownews.com/india/article/goa...   \n",
       "\n",
       "                                                body          flair  \n",
       "0  ###[Covid-19 Fundraisers & Donation Links](htt...    Coronavirus  \n",
       "1                                                       Coronavirus  \n",
       "2                                                       Coronavirus  \n",
       "3                                                     Non-Political  \n",
       "4                                                       Coronavirus  "
      ]
     },
     "execution_count": 12,
     "metadata": {},
     "output_type": "execute_result"
    }
   ],
   "source": [
    "df.head()"
   ]
  },
  {
   "cell_type": "code",
   "execution_count": 13,
   "metadata": {
    "scrolled": true
   },
   "outputs": [
    {
     "data": {
      "text/plain": [
       "(3615, 5)"
      ]
     },
     "execution_count": 13,
     "metadata": {},
     "output_type": "execute_result"
    }
   ],
   "source": [
    "df.shape"
   ]
  },
  {
   "cell_type": "markdown",
   "metadata": {},
   "source": [
    "### Since subreddits can appear in multiple filters, the DF is sorted and duplicate elements are dropped."
   ]
  },
  {
   "cell_type": "code",
   "execution_count": 14,
   "metadata": {},
   "outputs": [],
   "source": [
    "df.sort_values(\"id\", inplace = True)\n",
    "df.drop_duplicates(subset =\"id\", inplace = True)"
   ]
  },
  {
   "cell_type": "code",
   "execution_count": 15,
   "metadata": {},
   "outputs": [
    {
     "data": {
      "text/plain": [
       "(2845, 5)"
      ]
     },
     "execution_count": 15,
     "metadata": {},
     "output_type": "execute_result"
    }
   ],
   "source": [
    "df.shape"
   ]
  },
  {
   "cell_type": "markdown",
   "metadata": {},
   "source": [
    "### Analyzing the unique flairs and their frequencies from the collected data"
   ]
  },
  {
   "cell_type": "code",
   "execution_count": 19,
   "metadata": {},
   "outputs": [
    {
     "data": {
      "text/plain": [
       "Politics                          921\n",
       "Non-Political                     771\n",
       "Coronavirus                       417\n",
       "AskIndia                          188\n",
       "[R]eddiquette                      71\n",
       "Policy/Economy                     59\n",
       "Photography                        56\n",
       "Sports                             39\n",
       "Business/Finance                   38\n",
       "Science/Technology                 34\n",
       "Food                               22\n",
       "Unverified                         19\n",
       "Scheduled                          11\n",
       "CAA-NRC                            11\n",
       "Moderated                           7\n",
       "Misleading                          6\n",
       "CAA-NRC-NPR                         5\n",
       "Policy                              4\n",
       "Demonetization                      4\n",
       "r/all                               3\n",
       "Policy & Economy                    3\n",
       "Entertainment                       3\n",
       "/r/all                              2\n",
       "AMA                                 2\n",
       "AMA Concluded                       1\n",
       "Goal Achieved!!!                    1\n",
       "Lifehacks                           1\n",
       "40 Martyrs                          1\n",
       "Meta                                1\n",
       "| Repost |                          1\n",
       "Misleading Headline                 1\n",
       "OC                                  1\n",
       "Official Sadness Thread             1\n",
       "Old                                 1\n",
       "Original Comics                     1\n",
       "Original Content :)                 1\n",
       "Policy/Economy -2017 Article        1\n",
       "Politics -- Source in comments      1\n",
       "Politics [Megathread]               1\n",
       "Politics [OLD]                      1\n",
       "Science & Technology                1\n",
       "Totally real                        1\n",
       "Zoke Tyme                           1\n",
       "[Editorialised]                     1\n",
       "On Internet Shutdowns               1\n",
       "Name: flair, dtype: int64"
      ]
     },
     "execution_count": 19,
     "metadata": {},
     "output_type": "execute_result"
    }
   ],
   "source": [
    "df['flair'].value_counts()"
   ]
  },
  {
   "cell_type": "markdown",
   "metadata": {},
   "source": [
    "### Choosing the top 10 flairs from the scrapped list as the categories for the succeeding prediction task. "
   ]
  },
  {
   "cell_type": "code",
   "execution_count": 22,
   "metadata": {},
   "outputs": [],
   "source": [
    "top_flairs = [\"Politics\", \"Non-Political\", \"Coronavirus\", \"AskIndia\", \"Policy/Economy\", \"[R]eddiquette\", \n",
    "              \"Photography\", \"Business/Finance\", \"Sports\", \"Science/Technology\"]\n",
    "\n",
    "df_top = df.loc[df['flair'].isin(top_flairs)]"
   ]
  },
  {
   "cell_type": "code",
   "execution_count": 23,
   "metadata": {},
   "outputs": [
    {
     "data": {
      "text/plain": [
       "(2594, 5)"
      ]
     },
     "execution_count": 23,
     "metadata": {},
     "output_type": "execute_result"
    }
   ],
   "source": [
    "df_top.shape"
   ]
  },
  {
   "cell_type": "code",
   "execution_count": 24,
   "metadata": {
    "scrolled": true
   },
   "outputs": [
    {
     "data": {
      "text/html": [
       "<div>\n",
       "<style scoped>\n",
       "    .dataframe tbody tr th:only-of-type {\n",
       "        vertical-align: middle;\n",
       "    }\n",
       "\n",
       "    .dataframe tbody tr th {\n",
       "        vertical-align: top;\n",
       "    }\n",
       "\n",
       "    .dataframe thead th {\n",
       "        text-align: right;\n",
       "    }\n",
       "</style>\n",
       "<table border=\"1\" class=\"dataframe\">\n",
       "  <thead>\n",
       "    <tr style=\"text-align: right;\">\n",
       "      <th></th>\n",
       "      <th>id</th>\n",
       "      <th>title</th>\n",
       "      <th>url</th>\n",
       "      <th>body</th>\n",
       "      <th>flair</th>\n",
       "    </tr>\n",
       "  </thead>\n",
       "  <tbody>\n",
       "    <tr>\n",
       "      <th>2335</th>\n",
       "      <td>1vfqzr</td>\n",
       "      <td>Hrithik Roshan to tie the knot for the second ...</td>\n",
       "      <td>http://www.bollywoodmantra.com/news/hrithik-ro...</td>\n",
       "      <td></td>\n",
       "      <td>Non-Political</td>\n",
       "    </tr>\n",
       "    <tr>\n",
       "      <th>2152</th>\n",
       "      <td>1vgb3k</td>\n",
       "      <td>Girls of /r/India, would any of you be interes...</td>\n",
       "      <td>https://www.reddit.com/r/india/comments/1vgb3k...</td>\n",
       "      <td>.</td>\n",
       "      <td>Non-Political</td>\n",
       "    </tr>\n",
       "    <tr>\n",
       "      <th>2303</th>\n",
       "      <td>1vqu7l</td>\n",
       "      <td>Regarding the ongoing Kejru dramabaaz</td>\n",
       "      <td>https://www.reddit.com/r/india/comments/1vqu7l...</td>\n",
       "      <td>I spoke with some people in Delhi , one of who...</td>\n",
       "      <td>Politics</td>\n",
       "    </tr>\n",
       "    <tr>\n",
       "      <th>2266</th>\n",
       "      <td>1w4xsp</td>\n",
       "      <td>A site that lists out scams by the BJP</td>\n",
       "      <td>http://bjpscams.com/</td>\n",
       "      <td></td>\n",
       "      <td>Politics</td>\n",
       "    </tr>\n",
       "    <tr>\n",
       "      <th>2124</th>\n",
       "      <td>1wcra7</td>\n",
       "      <td>Modi says India has no War Memorials, here's a...</td>\n",
       "      <td>http://www.truthofgujarat.com/modi-says-india-...</td>\n",
       "      <td></td>\n",
       "      <td>Politics</td>\n",
       "    </tr>\n",
       "  </tbody>\n",
       "</table>\n",
       "</div>"
      ],
      "text/plain": [
       "          id                                              title  \\\n",
       "2335  1vfqzr  Hrithik Roshan to tie the knot for the second ...   \n",
       "2152  1vgb3k  Girls of /r/India, would any of you be interes...   \n",
       "2303  1vqu7l              Regarding the ongoing Kejru dramabaaz   \n",
       "2266  1w4xsp             A site that lists out scams by the BJP   \n",
       "2124  1wcra7  Modi says India has no War Memorials, here's a...   \n",
       "\n",
       "                                                    url  \\\n",
       "2335  http://www.bollywoodmantra.com/news/hrithik-ro...   \n",
       "2152  https://www.reddit.com/r/india/comments/1vgb3k...   \n",
       "2303  https://www.reddit.com/r/india/comments/1vqu7l...   \n",
       "2266                               http://bjpscams.com/   \n",
       "2124  http://www.truthofgujarat.com/modi-says-india-...   \n",
       "\n",
       "                                                   body          flair  \n",
       "2335                                                     Non-Political  \n",
       "2152                                                  .  Non-Political  \n",
       "2303  I spoke with some people in Delhi , one of who...       Politics  \n",
       "2266                                                          Politics  \n",
       "2124                                                          Politics  "
      ]
     },
     "execution_count": 24,
     "metadata": {},
     "output_type": "execute_result"
    }
   ],
   "source": [
    "df_top.head()"
   ]
  },
  {
   "cell_type": "markdown",
   "metadata": {},
   "source": [
    "### Scrapping again from the r/india subreddit for the above mentioned flairs with a limit of 100 for each flairs"
   ]
  },
  {
   "cell_type": "code",
   "execution_count": 25,
   "metadata": {},
   "outputs": [],
   "source": [
    "reddit = praw.Reddit(client_id = \"*\", \n",
    "                     client_secret = \"*\", \n",
    "                     user_agent = \"*\")\n",
    "\n",
    "subred = reddit.subreddit('india')\n",
    "sample_data = {\"id\":[], \"title\":[], \"url\":[], \"body\":[], \"flair\":[]}\n",
    "\n",
    "top_flairs = [\"Politics\", \"Non-Political\", \"Coronavirus\", \"AskIndia\", \"Policy/Economy\", \"[R]eddiquette\", \n",
    "              \"Photography\", \"Business/Finance\", \"Sports\", \"Science/Technology\"]\n",
    "\n",
    "for flair in top_flairs:\n",
    "  \n",
    "  top_f = subred.search(flair, limit=100)\n",
    "  \n",
    "  for i in top_f:\n",
    "    \n",
    "    sample_data[\"id\"].append(i.id)\n",
    "    sample_data[\"title\"].append(i.title)\n",
    "    sample_data[\"url\"].append(i.url)\n",
    "    sample_data[\"body\"].append(i.selftext)\n",
    "    sample_data[\"flair\"].append(flair)\n",
    "    \n",
    "sample = pd.DataFrame(sample_data)\n"
   ]
  },
  {
   "cell_type": "code",
   "execution_count": 26,
   "metadata": {},
   "outputs": [
    {
     "data": {
      "text/html": [
       "<div>\n",
       "<style scoped>\n",
       "    .dataframe tbody tr th:only-of-type {\n",
       "        vertical-align: middle;\n",
       "    }\n",
       "\n",
       "    .dataframe tbody tr th {\n",
       "        vertical-align: top;\n",
       "    }\n",
       "\n",
       "    .dataframe thead th {\n",
       "        text-align: right;\n",
       "    }\n",
       "</style>\n",
       "<table border=\"1\" class=\"dataframe\">\n",
       "  <thead>\n",
       "    <tr style=\"text-align: right;\">\n",
       "      <th></th>\n",
       "      <th>id</th>\n",
       "      <th>title</th>\n",
       "      <th>url</th>\n",
       "      <th>body</th>\n",
       "      <th>flair</th>\n",
       "    </tr>\n",
       "  </thead>\n",
       "  <tbody>\n",
       "    <tr>\n",
       "      <th>0</th>\n",
       "      <td>g2ct57</td>\n",
       "      <td>A polite request to all Indians here</td>\n",
       "      <td>https://www.reddit.com/r/india/comments/g2ct57...</td>\n",
       "      <td>I don't know if it is the same situation in ot...</td>\n",
       "      <td>Politics</td>\n",
       "    </tr>\n",
       "    <tr>\n",
       "      <th>1</th>\n",
       "      <td>futac9</td>\n",
       "      <td>Pitting a community against a political party ...</td>\n",
       "      <td>https://www.reddit.com/r/india/comments/futac9...</td>\n",
       "      <td>First of all let me start by saying it was stu...</td>\n",
       "      <td>Politics</td>\n",
       "    </tr>\n",
       "    <tr>\n",
       "      <th>2</th>\n",
       "      <td>ff8sth</td>\n",
       "      <td>A new political party gave a full front page a...</td>\n",
       "      <td>https://i.redd.it/yjo9wpy38el41.jpg</td>\n",
       "      <td></td>\n",
       "      <td>Politics</td>\n",
       "    </tr>\n",
       "    <tr>\n",
       "      <th>3</th>\n",
       "      <td>fpaj1w</td>\n",
       "      <td>Hit by backlash over posts on lack of medical ...</td>\n",
       "      <td>https://theprint.in/india/hit-by-backlash-over...</td>\n",
       "      <td></td>\n",
       "      <td>Politics</td>\n",
       "    </tr>\n",
       "    <tr>\n",
       "      <th>4</th>\n",
       "      <td>fxs1vy</td>\n",
       "      <td>Politics in the time of corona: WB CM question...</td>\n",
       "      <td>https://www.timesnownews.com/india/article/pol...</td>\n",
       "      <td></td>\n",
       "      <td>Politics</td>\n",
       "    </tr>\n",
       "  </tbody>\n",
       "</table>\n",
       "</div>"
      ],
      "text/plain": [
       "       id                                              title  \\\n",
       "0  g2ct57               A polite request to all Indians here   \n",
       "1  futac9  Pitting a community against a political party ...   \n",
       "2  ff8sth  A new political party gave a full front page a...   \n",
       "3  fpaj1w  Hit by backlash over posts on lack of medical ...   \n",
       "4  fxs1vy  Politics in the time of corona: WB CM question...   \n",
       "\n",
       "                                                 url  \\\n",
       "0  https://www.reddit.com/r/india/comments/g2ct57...   \n",
       "1  https://www.reddit.com/r/india/comments/futac9...   \n",
       "2                https://i.redd.it/yjo9wpy38el41.jpg   \n",
       "3  https://theprint.in/india/hit-by-backlash-over...   \n",
       "4  https://www.timesnownews.com/india/article/pol...   \n",
       "\n",
       "                                                body     flair  \n",
       "0  I don't know if it is the same situation in ot...  Politics  \n",
       "1  First of all let me start by saying it was stu...  Politics  \n",
       "2                                                     Politics  \n",
       "3                                                     Politics  \n",
       "4                                                     Politics  "
      ]
     },
     "execution_count": 26,
     "metadata": {},
     "output_type": "execute_result"
    }
   ],
   "source": [
    "sample.head()"
   ]
  },
  {
   "cell_type": "code",
   "execution_count": 27,
   "metadata": {},
   "outputs": [
    {
     "name": "stdout",
     "output_type": "stream",
     "text": [
      "flair\n",
      "AskIndia              100\n",
      "Business/Finance      100\n",
      "Coronavirus           100\n",
      "Non-Political         100\n",
      "Photography           100\n",
      "Policy/Economy        100\n",
      "Politics              100\n",
      "Science/Technology    100\n",
      "Sports                100\n",
      "[R]eddiquette          18\n",
      "Name: id, dtype: int64\n"
     ]
    }
   ],
   "source": [
    "count = sample.groupby('flair')['id'].nunique()\n",
    "\n",
    "print (count)"
   ]
  },
  {
   "cell_type": "markdown",
   "metadata": {},
   "source": [
    "### It is seen that \"[R]eddiquette\"  flair has less samples so, using the previously scrapped data and concatinating for    \"[R]eddiquette\" alone."
   ]
  },
  {
   "cell_type": "code",
   "execution_count": 20,
   "metadata": {},
   "outputs": [
    {
     "data": {
      "text/html": [
       "<div>\n",
       "<style scoped>\n",
       "    .dataframe tbody tr th:only-of-type {\n",
       "        vertical-align: middle;\n",
       "    }\n",
       "\n",
       "    .dataframe tbody tr th {\n",
       "        vertical-align: top;\n",
       "    }\n",
       "\n",
       "    .dataframe thead th {\n",
       "        text-align: right;\n",
       "    }\n",
       "</style>\n",
       "<table border=\"1\" class=\"dataframe\">\n",
       "  <thead>\n",
       "    <tr style=\"text-align: right;\">\n",
       "      <th></th>\n",
       "      <th>id</th>\n",
       "      <th>title</th>\n",
       "      <th>url</th>\n",
       "      <th>body</th>\n",
       "      <th>flair</th>\n",
       "    </tr>\n",
       "  </thead>\n",
       "  <tbody>\n",
       "    <tr>\n",
       "      <th>1843</th>\n",
       "      <td>1xseo5</td>\n",
       "      <td>TIL. Lord Shiva encourages [r]itual rape prost...</td>\n",
       "      <td>https://www.reddit.com/r/india/comments/1xseo5...</td>\n",
       "      <td>Wendy Doniger, has tried to bring forth many r...</td>\n",
       "      <td>[R]eddiquette</td>\n",
       "    </tr>\n",
       "    <tr>\n",
       "      <th>2295</th>\n",
       "      <td>1zf5ln</td>\n",
       "      <td>Modi - No [R]iots in Gujarat in last 10 years ...</td>\n",
       "      <td>https://www.reddit.com/r/india/comments/1zf5ln...</td>\n",
       "      <td>1) [Vadodara: Centre sends para-military help]...</td>\n",
       "      <td>[R]eddiquette</td>\n",
       "    </tr>\n",
       "    <tr>\n",
       "      <th>1789</th>\n",
       "      <td>217pd5</td>\n",
       "      <td>New Mod Announcement [R]</td>\n",
       "      <td>https://www.reddit.com/r/india/comments/217pd5...</td>\n",
       "      <td>We are happy to announce the addition of /u/Aw...</td>\n",
       "      <td>[R]eddiquette</td>\n",
       "    </tr>\n",
       "    <tr>\n",
       "      <th>2525</th>\n",
       "      <td>254794</td>\n",
       "      <td>A 12-year-old happy child showing the flowe[r]...</td>\n",
       "      <td>https://pbs.twimg.com/media/BnIaNqtCUAAU8l7.jpg</td>\n",
       "      <td></td>\n",
       "      <td>[R]eddiquette</td>\n",
       "    </tr>\n",
       "    <tr>\n",
       "      <th>1955</th>\n",
       "      <td>2c0sze</td>\n",
       "      <td>[R] Where is the Muslim outrage?</td>\n",
       "      <td>https://www.reddit.com/r/india/comments/2c0sze...</td>\n",
       "      <td>For the past few weeks, I have been observing ...</td>\n",
       "      <td>[R]eddiquette</td>\n",
       "    </tr>\n",
       "  </tbody>\n",
       "</table>\n",
       "</div>"
      ],
      "text/plain": [
       "          id                                              title  \\\n",
       "1843  1xseo5  TIL. Lord Shiva encourages [r]itual rape prost...   \n",
       "2295  1zf5ln  Modi - No [R]iots in Gujarat in last 10 years ...   \n",
       "1789  217pd5                           New Mod Announcement [R]   \n",
       "2525  254794  A 12-year-old happy child showing the flowe[r]...   \n",
       "1955  2c0sze                   [R] Where is the Muslim outrage?   \n",
       "\n",
       "                                                    url  \\\n",
       "1843  https://www.reddit.com/r/india/comments/1xseo5...   \n",
       "2295  https://www.reddit.com/r/india/comments/1zf5ln...   \n",
       "1789  https://www.reddit.com/r/india/comments/217pd5...   \n",
       "2525    https://pbs.twimg.com/media/BnIaNqtCUAAU8l7.jpg   \n",
       "1955  https://www.reddit.com/r/india/comments/2c0sze...   \n",
       "\n",
       "                                                   body          flair  \n",
       "1843  Wendy Doniger, has tried to bring forth many r...  [R]eddiquette  \n",
       "2295  1) [Vadodara: Centre sends para-military help]...  [R]eddiquette  \n",
       "1789  We are happy to announce the addition of /u/Aw...  [R]eddiquette  \n",
       "2525                                                     [R]eddiquette  \n",
       "1955  For the past few weeks, I have been observing ...  [R]eddiquette  "
      ]
     },
     "execution_count": 20,
     "metadata": {},
     "output_type": "execute_result"
    }
   ],
   "source": [
    "df_r = df[df['flair'] == '[R]eddiquette']\n",
    "df_r.head()"
   ]
  },
  {
   "cell_type": "code",
   "execution_count": 21,
   "metadata": {},
   "outputs": [
    {
     "data": {
      "text/plain": [
       "(71, 5)"
      ]
     },
     "execution_count": 21,
     "metadata": {},
     "output_type": "execute_result"
    }
   ],
   "source": [
    "df_r.shape"
   ]
  },
  {
   "cell_type": "code",
   "execution_count": 28,
   "metadata": {},
   "outputs": [],
   "source": [
    "final = pd.concat([sample, df_r])"
   ]
  },
  {
   "cell_type": "code",
   "execution_count": 29,
   "metadata": {},
   "outputs": [
    {
     "data": {
      "text/html": [
       "<div>\n",
       "<style scoped>\n",
       "    .dataframe tbody tr th:only-of-type {\n",
       "        vertical-align: middle;\n",
       "    }\n",
       "\n",
       "    .dataframe tbody tr th {\n",
       "        vertical-align: top;\n",
       "    }\n",
       "\n",
       "    .dataframe thead th {\n",
       "        text-align: right;\n",
       "    }\n",
       "</style>\n",
       "<table border=\"1\" class=\"dataframe\">\n",
       "  <thead>\n",
       "    <tr style=\"text-align: right;\">\n",
       "      <th></th>\n",
       "      <th>id</th>\n",
       "      <th>title</th>\n",
       "      <th>url</th>\n",
       "      <th>body</th>\n",
       "      <th>flair</th>\n",
       "    </tr>\n",
       "  </thead>\n",
       "  <tbody>\n",
       "    <tr>\n",
       "      <th>0</th>\n",
       "      <td>g2ct57</td>\n",
       "      <td>A polite request to all Indians here</td>\n",
       "      <td>https://www.reddit.com/r/india/comments/g2ct57...</td>\n",
       "      <td>I don't know if it is the same situation in ot...</td>\n",
       "      <td>Politics</td>\n",
       "    </tr>\n",
       "    <tr>\n",
       "      <th>1</th>\n",
       "      <td>futac9</td>\n",
       "      <td>Pitting a community against a political party ...</td>\n",
       "      <td>https://www.reddit.com/r/india/comments/futac9...</td>\n",
       "      <td>First of all let me start by saying it was stu...</td>\n",
       "      <td>Politics</td>\n",
       "    </tr>\n",
       "    <tr>\n",
       "      <th>2</th>\n",
       "      <td>ff8sth</td>\n",
       "      <td>A new political party gave a full front page a...</td>\n",
       "      <td>https://i.redd.it/yjo9wpy38el41.jpg</td>\n",
       "      <td></td>\n",
       "      <td>Politics</td>\n",
       "    </tr>\n",
       "    <tr>\n",
       "      <th>3</th>\n",
       "      <td>fpaj1w</td>\n",
       "      <td>Hit by backlash over posts on lack of medical ...</td>\n",
       "      <td>https://theprint.in/india/hit-by-backlash-over...</td>\n",
       "      <td></td>\n",
       "      <td>Politics</td>\n",
       "    </tr>\n",
       "    <tr>\n",
       "      <th>4</th>\n",
       "      <td>fxs1vy</td>\n",
       "      <td>Politics in the time of corona: WB CM question...</td>\n",
       "      <td>https://www.timesnownews.com/india/article/pol...</td>\n",
       "      <td></td>\n",
       "      <td>Politics</td>\n",
       "    </tr>\n",
       "  </tbody>\n",
       "</table>\n",
       "</div>"
      ],
      "text/plain": [
       "       id                                              title  \\\n",
       "0  g2ct57               A polite request to all Indians here   \n",
       "1  futac9  Pitting a community against a political party ...   \n",
       "2  ff8sth  A new political party gave a full front page a...   \n",
       "3  fpaj1w  Hit by backlash over posts on lack of medical ...   \n",
       "4  fxs1vy  Politics in the time of corona: WB CM question...   \n",
       "\n",
       "                                                 url  \\\n",
       "0  https://www.reddit.com/r/india/comments/g2ct57...   \n",
       "1  https://www.reddit.com/r/india/comments/futac9...   \n",
       "2                https://i.redd.it/yjo9wpy38el41.jpg   \n",
       "3  https://theprint.in/india/hit-by-backlash-over...   \n",
       "4  https://www.timesnownews.com/india/article/pol...   \n",
       "\n",
       "                                                body     flair  \n",
       "0  I don't know if it is the same situation in ot...  Politics  \n",
       "1  First of all let me start by saying it was stu...  Politics  \n",
       "2                                                     Politics  \n",
       "3                                                     Politics  \n",
       "4                                                     Politics  "
      ]
     },
     "execution_count": 29,
     "metadata": {},
     "output_type": "execute_result"
    }
   ],
   "source": [
    "final.head()"
   ]
  },
  {
   "cell_type": "code",
   "execution_count": 30,
   "metadata": {},
   "outputs": [
    {
     "name": "stdout",
     "output_type": "stream",
     "text": [
      "flair\n",
      "AskIndia              100\n",
      "Business/Finance      100\n",
      "Coronavirus           100\n",
      "Non-Political         100\n",
      "Photography           100\n",
      "Policy/Economy        100\n",
      "Politics              100\n",
      "Science/Technology    100\n",
      "Sports                100\n",
      "[R]eddiquette          89\n",
      "Name: id, dtype: int64\n"
     ]
    }
   ],
   "source": [
    "count = final.groupby('flair')['id'].nunique()\n",
    "\n",
    "print (count)"
   ]
  },
  {
   "cell_type": "markdown",
   "metadata": {},
   "source": [
    "\n",
    "### Converting the DataFrame into a CSV file"
   ]
  },
  {
   "cell_type": "code",
   "execution_count": 33,
   "metadata": {},
   "outputs": [],
   "source": [
    "final.to_csv('Data/reddit-top-flairs.csv', index=False)"
   ]
  }
 ],
 "metadata": {
  "kernelspec": {
   "display_name": "Python 3",
   "language": "python",
   "name": "python3"
  },
  "language_info": {
   "codemirror_mode": {
    "name": "ipython",
    "version": 3
   },
   "file_extension": ".py",
   "mimetype": "text/x-python",
   "name": "python",
   "nbconvert_exporter": "python",
   "pygments_lexer": "ipython3",
   "version": "3.7.7"
  }
 },
 "nbformat": 4,
 "nbformat_minor": 4
}
