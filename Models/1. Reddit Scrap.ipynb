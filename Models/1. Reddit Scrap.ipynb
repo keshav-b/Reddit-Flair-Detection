{
 "cells": [
  {
   "cell_type": "code",
   "execution_count": 1,
   "metadata": {},
   "outputs": [],
   "source": [
    "import praw"
   ]
  },
  {
   "cell_type": "code",
   "execution_count": 2,
   "metadata": {},
   "outputs": [],
   "source": [
    "reddit = praw.Reddit(client_id = \"udo3Q8u5ZjWoTw\", \n",
    "                     client_secret = \"yNiOW6McpesaIbhiJjMeM-zlH_U\", \n",
    "                     user_agent = \"Testing_api\")"
   ]
  },
  {
   "cell_type": "code",
   "execution_count": 3,
   "metadata": {},
   "outputs": [],
   "source": [
    "subred = reddit.subreddit('india')"
   ]
  },
  {
   "cell_type": "code",
   "execution_count": 4,
   "metadata": {},
   "outputs": [],
   "source": [
    "hot = subred.hot(limit=3000)\n",
    "top = subred.top(limit=3000)\n",
    "controversial = subred.controversial(limit=3000)\n",
    "new = subred.new(limit=3000)"
   ]
  },
  {
   "cell_type": "code",
   "execution_count": 5,
   "metadata": {},
   "outputs": [
    {
     "data": {
      "text/plain": [
       "praw.models.listing.generator.ListingGenerator"
      ]
     },
     "execution_count": 5,
     "metadata": {},
     "output_type": "execute_result"
    }
   ],
   "source": [
    "type(hot)"
   ]
  },
  {
   "cell_type": "code",
   "execution_count": 6,
   "metadata": {},
   "outputs": [],
   "source": [
    "data = {\"id\":[], \"title\":[], \"url\":[], \"body\":[], \"flair\":[]}"
   ]
  },
  {
   "cell_type": "code",
   "execution_count": 7,
   "metadata": {},
   "outputs": [],
   "source": [
    "for i in hot:\n",
    "    \n",
    "    data['id'].append(i.id)\n",
    "    data['title'].append(i.title)\n",
    "    data['url'].append(i.url)\n",
    "    data['body'].append(i.selftext)    \n",
    "    data['flair'].append(i.link_flair_text)    "
   ]
  },
  {
   "cell_type": "code",
   "execution_count": 9,
   "metadata": {},
   "outputs": [],
   "source": [
    "for i in top:\n",
    "    \n",
    "    data['id'].append(i.id)\n",
    "    data['title'].append(i.title)\n",
    "    data['url'].append(i.url)\n",
    "    data['body'].append(i.selftext)    \n",
    "    data['flair'].append(i.link_flair_text)"
   ]
  },
  {
   "cell_type": "code",
   "execution_count": 10,
   "metadata": {},
   "outputs": [],
   "source": [
    "for i in controversial:\n",
    "    \n",
    "    data['id'].append(i.id)\n",
    "    data['title'].append(i.title)\n",
    "    data['url'].append(i.url)\n",
    "    data['body'].append(i.selftext)    \n",
    "    data['flair'].append(i.link_flair_text)"
   ]
  },
  {
   "cell_type": "code",
   "execution_count": 11,
   "metadata": {},
   "outputs": [],
   "source": [
    "for i in new:\n",
    "    \n",
    "    data['id'].append(i.id)\n",
    "    data['title'].append(i.title)\n",
    "    data['url'].append(i.url)\n",
    "    data['body'].append(i.selftext)    \n",
    "    data['flair'].append(i.link_flair_text)"
   ]
  },
  {
   "cell_type": "code",
   "execution_count": 43,
   "metadata": {},
   "outputs": [],
   "source": [
    "import pandas as pd\n",
    "df = pd.DataFrame(data)"
   ]
  },
  {
   "cell_type": "code",
   "execution_count": 44,
   "metadata": {},
   "outputs": [
    {
     "data": {
      "text/html": [
       "<div>\n",
       "<style scoped>\n",
       "    .dataframe tbody tr th:only-of-type {\n",
       "        vertical-align: middle;\n",
       "    }\n",
       "\n",
       "    .dataframe tbody tr th {\n",
       "        vertical-align: top;\n",
       "    }\n",
       "\n",
       "    .dataframe thead th {\n",
       "        text-align: right;\n",
       "    }\n",
       "</style>\n",
       "<table border=\"1\" class=\"dataframe\">\n",
       "  <thead>\n",
       "    <tr style=\"text-align: right;\">\n",
       "      <th></th>\n",
       "      <th>id</th>\n",
       "      <th>title</th>\n",
       "      <th>url</th>\n",
       "      <th>body</th>\n",
       "      <th>flair</th>\n",
       "    </tr>\n",
       "  </thead>\n",
       "  <tbody>\n",
       "    <tr>\n",
       "      <th>0</th>\n",
       "      <td>g1zi21</td>\n",
       "      <td>Coronavirus (COVID-19) Megathread - News and U...</td>\n",
       "      <td>https://www.reddit.com/r/india/comments/g1zi21...</td>\n",
       "      <td>###[Covid-19 Fundraisers &amp; Donation Links](htt...</td>\n",
       "      <td>Coronavirus</td>\n",
       "    </tr>\n",
       "    <tr>\n",
       "      <th>1</th>\n",
       "      <td>g2w6cb</td>\n",
       "      <td>A Rejoinder: PIB and ICMR did not respond to q...</td>\n",
       "      <td>https://caravanmagazine.in/health/rejoinder-pi...</td>\n",
       "      <td></td>\n",
       "      <td>Coronavirus</td>\n",
       "    </tr>\n",
       "    <tr>\n",
       "      <th>2</th>\n",
       "      <td>g2oda0</td>\n",
       "      <td>Police Officer feeding an amputee Monkey. ( Or...</td>\n",
       "      <td>https://gfycat.com/pettyanotheranhinga</td>\n",
       "      <td></td>\n",
       "      <td>Coronavirus</td>\n",
       "    </tr>\n",
       "    <tr>\n",
       "      <th>3</th>\n",
       "      <td>g2lgmr</td>\n",
       "      <td>Scripts of India [Non Political]</td>\n",
       "      <td>https://i.redd.it/dg17dgejb8t41.png</td>\n",
       "      <td></td>\n",
       "      <td>Non-Political</td>\n",
       "    </tr>\n",
       "    <tr>\n",
       "      <th>4</th>\n",
       "      <td>g2ulmq</td>\n",
       "      <td>Class 10 student ends life, writes suicide not...</td>\n",
       "      <td>https://www.timesnownews.com/mirror-now/crime/...</td>\n",
       "      <td></td>\n",
       "      <td>Non-Political</td>\n",
       "    </tr>\n",
       "  </tbody>\n",
       "</table>\n",
       "</div>"
      ],
      "text/plain": [
       "       id                                              title  \\\n",
       "0  g1zi21  Coronavirus (COVID-19) Megathread - News and U...   \n",
       "1  g2w6cb  A Rejoinder: PIB and ICMR did not respond to q...   \n",
       "2  g2oda0  Police Officer feeding an amputee Monkey. ( Or...   \n",
       "3  g2lgmr                   Scripts of India [Non Political]   \n",
       "4  g2ulmq  Class 10 student ends life, writes suicide not...   \n",
       "\n",
       "                                                 url  \\\n",
       "0  https://www.reddit.com/r/india/comments/g1zi21...   \n",
       "1  https://caravanmagazine.in/health/rejoinder-pi...   \n",
       "2             https://gfycat.com/pettyanotheranhinga   \n",
       "3                https://i.redd.it/dg17dgejb8t41.png   \n",
       "4  https://www.timesnownews.com/mirror-now/crime/...   \n",
       "\n",
       "                                                body          flair  \n",
       "0  ###[Covid-19 Fundraisers & Donation Links](htt...    Coronavirus  \n",
       "1                                                       Coronavirus  \n",
       "2                                                       Coronavirus  \n",
       "3                                                     Non-Political  \n",
       "4                                                     Non-Political  "
      ]
     },
     "execution_count": 44,
     "metadata": {},
     "output_type": "execute_result"
    }
   ],
   "source": [
    "df.head()"
   ]
  },
  {
   "cell_type": "code",
   "execution_count": 45,
   "metadata": {
    "scrolled": true
   },
   "outputs": [
    {
     "data": {
      "text/plain": [
       "(3607, 5)"
      ]
     },
     "execution_count": 45,
     "metadata": {},
     "output_type": "execute_result"
    }
   ],
   "source": [
    "df.shape"
   ]
  },
  {
   "cell_type": "code",
   "execution_count": 47,
   "metadata": {},
   "outputs": [],
   "source": [
    "df.sort_values(\"id\", inplace = True)"
   ]
  },
  {
   "cell_type": "code",
   "execution_count": 49,
   "metadata": {},
   "outputs": [],
   "source": [
    "df.drop_duplicates(subset =\"id\", inplace = True)"
   ]
  },
  {
   "cell_type": "code",
   "execution_count": 50,
   "metadata": {},
   "outputs": [
    {
     "data": {
      "text/plain": [
       "(2832, 5)"
      ]
     },
     "execution_count": 50,
     "metadata": {},
     "output_type": "execute_result"
    }
   ],
   "source": [
    "df.shape"
   ]
  },
  {
   "cell_type": "code",
   "execution_count": 51,
   "metadata": {},
   "outputs": [],
   "source": [
    "df['flair'] = df['flair'].astype('category')"
   ]
  },
  {
   "cell_type": "code",
   "execution_count": 52,
   "metadata": {},
   "outputs": [
    {
     "data": {
      "text/plain": [
       "id         object\n",
       "title      object\n",
       "url        object\n",
       "body       object\n",
       "flair    category\n",
       "dtype: object"
      ]
     },
     "execution_count": 52,
     "metadata": {},
     "output_type": "execute_result"
    }
   ],
   "source": [
    "df.dtypes"
   ]
  },
  {
   "cell_type": "code",
   "execution_count": 53,
   "metadata": {},
   "outputs": [
    {
     "data": {
      "text/plain": [
       "1922    NaN\n",
       "2340    NaN\n",
       "2650    NaN\n",
       "2300    NaN\n",
       "1939    NaN\n",
       "Name: flair, dtype: category\n",
       "Categories (47, object): [/r/all, 40 Martyrs, AMA, AMA Concluded, ..., [R]eddiquette, r/all, | Not specific to India |, | Repost |]"
      ]
     },
     "execution_count": 53,
     "metadata": {},
     "output_type": "execute_result"
    }
   ],
   "source": [
    "df['flair'].head()"
   ]
  },
  {
   "cell_type": "code",
   "execution_count": 54,
   "metadata": {},
   "outputs": [
    {
     "data": {
      "text/plain": [
       "Politics                            923\n",
       "Non-Political                       757\n",
       "Coronavirus                         424\n",
       "AskIndia                            201\n",
       "[R]eddiquette                        72\n",
       "Photography                          50\n",
       "Policy/Economy                       47\n",
       "Sports                               41\n",
       "Business/Finance                     38\n",
       "Science/Technology                   31\n",
       "Food                                 20\n",
       "Unverified                           20\n",
       "CAA-NRC                              11\n",
       "Scheduled                            10\n",
       "Moderated                             7\n",
       "Misleading                            6\n",
       "Demonetization                        4\n",
       "Policy                                4\n",
       "CAA-NRC-NPR                           3\n",
       "Entertainment                         3\n",
       "Policy & Economy                      3\n",
       "r/all                                 3\n",
       "AMA                                   2\n",
       "/r/all                                2\n",
       "Misleading Headline                   1\n",
       "AMA Concluded                         1\n",
       "40 Martyrs                            1\n",
       "Goal Achieved!!!                      1\n",
       "Lifehacks                             1\n",
       "Meta                                  1\n",
       "| Repost |                            1\n",
       "OC                                    1\n",
       "Official Sadness Thread               1\n",
       "On Internet Shutdowns                 1\n",
       "Original Comics                       1\n",
       "| Not specific to India |             1\n",
       "Policy/Economy -2017 Article          1\n",
       "Politics -- Source in comments        1\n",
       "Politics [Megathread]                 1\n",
       "Politics [OLD]                        1\n",
       "Post link Directly                    1\n",
       "Science & Technology                  1\n",
       "Totally real                          1\n",
       "Translation provided in comments      1\n",
       "Zoke Tyme                             1\n",
       "[Editorialised]                       1\n",
       "Original Content :)                   1\n",
       "Name: flair, dtype: int64"
      ]
     },
     "execution_count": 54,
     "metadata": {},
     "output_type": "execute_result"
    }
   ],
   "source": [
    "df['flair'].value_counts()"
   ]
  },
  {
   "cell_type": "code",
   "execution_count": 105,
   "metadata": {},
   "outputs": [],
   "source": [
    "top_flairs = [\"Politics\", \"Non-Political\", \"Coronavirus\", \"AskIndia\", \"Policy/Economy\", \"[R]eddiquette\", \n",
    "              \"Photography\", \"Business/Finance\", \"Sports\", \"Science/Technology\"]\n",
    "\n",
    "df_top = df.loc[df['flair'].isin(top_flairs)]"
   ]
  },
  {
   "cell_type": "code",
   "execution_count": 106,
   "metadata": {},
   "outputs": [
    {
     "data": {
      "text/plain": [
       "(2584, 5)"
      ]
     },
     "execution_count": 106,
     "metadata": {},
     "output_type": "execute_result"
    }
   ],
   "source": [
    "df_top.shape"
   ]
  },
  {
   "cell_type": "code",
   "execution_count": 107,
   "metadata": {},
   "outputs": [
    {
     "data": {
      "text/html": [
       "<div>\n",
       "<style scoped>\n",
       "    .dataframe tbody tr th:only-of-type {\n",
       "        vertical-align: middle;\n",
       "    }\n",
       "\n",
       "    .dataframe tbody tr th {\n",
       "        vertical-align: top;\n",
       "    }\n",
       "\n",
       "    .dataframe thead th {\n",
       "        text-align: right;\n",
       "    }\n",
       "</style>\n",
       "<table border=\"1\" class=\"dataframe\">\n",
       "  <thead>\n",
       "    <tr style=\"text-align: right;\">\n",
       "      <th></th>\n",
       "      <th>id</th>\n",
       "      <th>title</th>\n",
       "      <th>url</th>\n",
       "      <th>body</th>\n",
       "      <th>flair</th>\n",
       "    </tr>\n",
       "  </thead>\n",
       "  <tbody>\n",
       "    <tr>\n",
       "      <th>2336</th>\n",
       "      <td>1vfqzr</td>\n",
       "      <td>Hrithik Roshan to tie the knot for the second ...</td>\n",
       "      <td>http://www.bollywoodmantra.com/news/hrithik-ro...</td>\n",
       "      <td></td>\n",
       "      <td>Non-Political</td>\n",
       "    </tr>\n",
       "    <tr>\n",
       "      <th>2153</th>\n",
       "      <td>1vgb3k</td>\n",
       "      <td>Girls of /r/India, would any of you be interes...</td>\n",
       "      <td>https://www.reddit.com/r/india/comments/1vgb3k...</td>\n",
       "      <td>.</td>\n",
       "      <td>Non-Political</td>\n",
       "    </tr>\n",
       "    <tr>\n",
       "      <th>2304</th>\n",
       "      <td>1vqu7l</td>\n",
       "      <td>Regarding the ongoing Kejru dramabaaz</td>\n",
       "      <td>https://www.reddit.com/r/india/comments/1vqu7l...</td>\n",
       "      <td>I spoke with some people in Delhi , one of who...</td>\n",
       "      <td>Politics</td>\n",
       "    </tr>\n",
       "    <tr>\n",
       "      <th>2268</th>\n",
       "      <td>1w4xsp</td>\n",
       "      <td>A site that lists out scams by the BJP</td>\n",
       "      <td>http://bjpscams.com/</td>\n",
       "      <td></td>\n",
       "      <td>Politics</td>\n",
       "    </tr>\n",
       "    <tr>\n",
       "      <th>2125</th>\n",
       "      <td>1wcra7</td>\n",
       "      <td>Modi says India has no War Memorials, here's a...</td>\n",
       "      <td>http://www.truthofgujarat.com/modi-says-india-...</td>\n",
       "      <td></td>\n",
       "      <td>Politics</td>\n",
       "    </tr>\n",
       "  </tbody>\n",
       "</table>\n",
       "</div>"
      ],
      "text/plain": [
       "          id                                              title  \\\n",
       "2336  1vfqzr  Hrithik Roshan to tie the knot for the second ...   \n",
       "2153  1vgb3k  Girls of /r/India, would any of you be interes...   \n",
       "2304  1vqu7l              Regarding the ongoing Kejru dramabaaz   \n",
       "2268  1w4xsp             A site that lists out scams by the BJP   \n",
       "2125  1wcra7  Modi says India has no War Memorials, here's a...   \n",
       "\n",
       "                                                    url  \\\n",
       "2336  http://www.bollywoodmantra.com/news/hrithik-ro...   \n",
       "2153  https://www.reddit.com/r/india/comments/1vgb3k...   \n",
       "2304  https://www.reddit.com/r/india/comments/1vqu7l...   \n",
       "2268                               http://bjpscams.com/   \n",
       "2125  http://www.truthofgujarat.com/modi-says-india-...   \n",
       "\n",
       "                                                   body          flair  \n",
       "2336                                                     Non-Political  \n",
       "2153                                                  .  Non-Political  \n",
       "2304  I spoke with some people in Delhi , one of who...       Politics  \n",
       "2268                                                          Politics  \n",
       "2125                                                          Politics  "
      ]
     },
     "execution_count": 107,
     "metadata": {},
     "output_type": "execute_result"
    }
   ],
   "source": [
    "df_top.head()"
   ]
  },
  {
   "cell_type": "code",
   "execution_count": 108,
   "metadata": {},
   "outputs": [],
   "source": [
    "df.to_csv('reddit-india-data.csv', index=False)\n",
    "df_top.to_csv('reddit-india-data-final.csv', index=False)"
   ]
  }
 ],
 "metadata": {
  "kernelspec": {
   "display_name": "Python 3",
   "language": "python",
   "name": "python3"
  },
  "language_info": {
   "codemirror_mode": {
    "name": "ipython",
    "version": 3
   },
   "file_extension": ".py",
   "mimetype": "text/x-python",
   "name": "python",
   "nbconvert_exporter": "python",
   "pygments_lexer": "ipython3",
   "version": "3.7.7"
  }
 },
 "nbformat": 4,
 "nbformat_minor": 4
}
