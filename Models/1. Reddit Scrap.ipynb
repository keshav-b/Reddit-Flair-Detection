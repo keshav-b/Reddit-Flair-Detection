{
 "cells": [
  {
   "cell_type": "code",
   "execution_count": 85,
   "metadata": {},
   "outputs": [],
   "source": [
    "import praw"
   ]
  },
  {
   "cell_type": "code",
   "execution_count": 86,
   "metadata": {},
   "outputs": [],
   "source": [
    "reddit = praw.Reddit(client_id = \"udo3Q8u5ZjWoTw\", \n",
    "                     client_secret = \"yNiOW6McpesaIbhiJjMeM-zlH_U\", \n",
    "                     user_agent = \"Testing_api\")"
   ]
  },
  {
   "cell_type": "code",
   "execution_count": 87,
   "metadata": {},
   "outputs": [],
   "source": [
    "subred = reddit.subreddit('india')"
   ]
  },
  {
   "cell_type": "code",
   "execution_count": 88,
   "metadata": {},
   "outputs": [],
   "source": [
    "hot = subred.hot(limit=1000)\n",
    "top = subred.top(limit=1000)"
   ]
  },
  {
   "cell_type": "code",
   "execution_count": 89,
   "metadata": {},
   "outputs": [
    {
     "data": {
      "text/plain": [
       "praw.models.listing.generator.ListingGenerator"
      ]
     },
     "execution_count": 89,
     "metadata": {},
     "output_type": "execute_result"
    }
   ],
   "source": [
    "type(hot)"
   ]
  },
  {
   "cell_type": "code",
   "execution_count": 90,
   "metadata": {},
   "outputs": [],
   "source": [
    "data = {\"id\":[], \"title\":[], \"url\":[], \"body\":[], \"flair\":[]}"
   ]
  },
  {
   "cell_type": "code",
   "execution_count": 91,
   "metadata": {},
   "outputs": [],
   "source": [
    "for i in hot:\n",
    "    \n",
    "    data['id'].append(i.id)\n",
    "    data['title'].append(i.title)\n",
    "    data['url'].append(i.url)\n",
    "    data['body'].append(i.selftext)    \n",
    "    data['flair'].append(i.link_flair_text)    "
   ]
  },
  {
   "cell_type": "code",
   "execution_count": 92,
   "metadata": {},
   "outputs": [],
   "source": [
    "for i in top:\n",
    "    \n",
    "    data['id'].append(i.id)\n",
    "    data['title'].append(i.title)\n",
    "    data['url'].append(i.url)\n",
    "    data['body'].append(i.selftext)    \n",
    "    data['flair'].append(i.link_flair_text)"
   ]
  },
  {
   "cell_type": "code",
   "execution_count": 79,
   "metadata": {},
   "outputs": [],
   "source": [
    "import pandas as pd\n",
    "df = pd.DataFrame(data)"
   ]
  },
  {
   "cell_type": "code",
   "execution_count": 93,
   "metadata": {},
   "outputs": [
    {
     "data": {
      "text/html": [
       "<div>\n",
       "<style scoped>\n",
       "    .dataframe tbody tr th:only-of-type {\n",
       "        vertical-align: middle;\n",
       "    }\n",
       "\n",
       "    .dataframe tbody tr th {\n",
       "        vertical-align: top;\n",
       "    }\n",
       "\n",
       "    .dataframe thead th {\n",
       "        text-align: right;\n",
       "    }\n",
       "</style>\n",
       "<table border=\"1\" class=\"dataframe\">\n",
       "  <thead>\n",
       "    <tr style=\"text-align: right;\">\n",
       "      <th></th>\n",
       "      <th>id</th>\n",
       "      <th>title</th>\n",
       "      <th>url</th>\n",
       "      <th>body</th>\n",
       "      <th>flair</th>\n",
       "    </tr>\n",
       "  </thead>\n",
       "  <tbody>\n",
       "    <tr>\n",
       "      <th>0</th>\n",
       "      <td>fqqdsg</td>\n",
       "      <td>Coronavirus (COVID-19) Megathread - News and U...</td>\n",
       "      <td>https://www.reddit.com/r/india/comments/fqqdsg...</td>\n",
       "      <td>###[Covid-19 Fundraisers &amp; Donation Links](htt...</td>\n",
       "      <td>Coronavirus</td>\n",
       "    </tr>\n",
       "    <tr>\n",
       "      <th>1</th>\n",
       "      <td>g0f72k</td>\n",
       "      <td>A comprehensive look at Covid Surveillance and...</td>\n",
       "      <td>https://www.reddit.com/r/india/comments/g0f72k...</td>\n",
       "      <td>https://preview.redd.it/5vdy8f5stjs41.png?widt...</td>\n",
       "      <td>Policy/Economy</td>\n",
       "    </tr>\n",
       "    <tr>\n",
       "      <th>2</th>\n",
       "      <td>g0xyg7</td>\n",
       "      <td>Today on the first day of Bengali calendar, wi...</td>\n",
       "      <td>https://i.imgur.com/wTH4IsY.jpg</td>\n",
       "      <td></td>\n",
       "      <td>Non-Political</td>\n",
       "    </tr>\n",
       "    <tr>\n",
       "      <th>3</th>\n",
       "      <td>g0zink</td>\n",
       "      <td>Key takeaways from PM Narendra Modi’s address ...</td>\n",
       "      <td>https://www.reddit.com/r/india/comments/g0zink...</td>\n",
       "      <td>## Key points said\\n- Nation's fighting well, ...</td>\n",
       "      <td>Coronavirus</td>\n",
       "    </tr>\n",
       "    <tr>\n",
       "      <th>4</th>\n",
       "      <td>g0zlly</td>\n",
       "      <td>Mother's condition is going worse due to hepat...</td>\n",
       "      <td>https://www.reddit.com/r/india/comments/g0zlly...</td>\n",
       "      <td>Hi folks, I really appreciate the warm respons...</td>\n",
       "      <td>AskIndia</td>\n",
       "    </tr>\n",
       "  </tbody>\n",
       "</table>\n",
       "</div>"
      ],
      "text/plain": [
       "       id                                              title  \\\n",
       "0  fqqdsg  Coronavirus (COVID-19) Megathread - News and U...   \n",
       "1  g0f72k  A comprehensive look at Covid Surveillance and...   \n",
       "2  g0xyg7  Today on the first day of Bengali calendar, wi...   \n",
       "3  g0zink  Key takeaways from PM Narendra Modi’s address ...   \n",
       "4  g0zlly  Mother's condition is going worse due to hepat...   \n",
       "\n",
       "                                                 url  \\\n",
       "0  https://www.reddit.com/r/india/comments/fqqdsg...   \n",
       "1  https://www.reddit.com/r/india/comments/g0f72k...   \n",
       "2                    https://i.imgur.com/wTH4IsY.jpg   \n",
       "3  https://www.reddit.com/r/india/comments/g0zink...   \n",
       "4  https://www.reddit.com/r/india/comments/g0zlly...   \n",
       "\n",
       "                                                body           flair  \n",
       "0  ###[Covid-19 Fundraisers & Donation Links](htt...     Coronavirus  \n",
       "1  https://preview.redd.it/5vdy8f5stjs41.png?widt...  Policy/Economy  \n",
       "2                                                      Non-Political  \n",
       "3  ## Key points said\\n- Nation's fighting well, ...     Coronavirus  \n",
       "4  Hi folks, I really appreciate the warm respons...        AskIndia  "
      ]
     },
     "execution_count": 93,
     "metadata": {},
     "output_type": "execute_result"
    }
   ],
   "source": [
    "df.head()"
   ]
  },
  {
   "cell_type": "code",
   "execution_count": 94,
   "metadata": {},
   "outputs": [
    {
     "data": {
      "text/plain": [
       "(1772, 5)"
      ]
     },
     "execution_count": 94,
     "metadata": {},
     "output_type": "execute_result"
    }
   ],
   "source": [
    "df.shape"
   ]
  },
  {
   "cell_type": "code",
   "execution_count": 95,
   "metadata": {},
   "outputs": [],
   "source": [
    "df['flair'] = df['flair'].astype('category')"
   ]
  },
  {
   "cell_type": "code",
   "execution_count": 96,
   "metadata": {},
   "outputs": [
    {
     "data": {
      "text/plain": [
       "id         object\n",
       "title      object\n",
       "url        object\n",
       "body       object\n",
       "flair    category\n",
       "dtype: object"
      ]
     },
     "execution_count": 96,
     "metadata": {},
     "output_type": "execute_result"
    }
   ],
   "source": [
    "df.dtypes"
   ]
  },
  {
   "cell_type": "code",
   "execution_count": 97,
   "metadata": {},
   "outputs": [
    {
     "data": {
      "text/plain": [
       "0       Coronavirus\n",
       "1    Policy/Economy\n",
       "2     Non-Political\n",
       "3       Coronavirus\n",
       "4          AskIndia\n",
       "Name: flair, dtype: category\n",
       "Categories (40, object): [/r/all, 40 Martyrs, AMA, Announcement, ..., [R]eddiquette, r/all, | Image Rule Violation |, | Repost |]"
      ]
     },
     "execution_count": 97,
     "metadata": {},
     "output_type": "execute_result"
    }
   ],
   "source": [
    "df['flair'].head()"
   ]
  },
  {
   "cell_type": "code",
   "execution_count": 102,
   "metadata": {},
   "outputs": [],
   "source": [
    "df.to_csv('reddit-india-data.csv', index=False)"
   ]
  }
 ],
 "metadata": {
  "kernelspec": {
   "display_name": "Python 3",
   "language": "python",
   "name": "python3"
  },
  "language_info": {
   "codemirror_mode": {
    "name": "ipython",
    "version": 3
   },
   "file_extension": ".py",
   "mimetype": "text/x-python",
   "name": "python",
   "nbconvert_exporter": "python",
   "pygments_lexer": "ipython3",
   "version": "3.7.7"
  }
 },
 "nbformat": 4,
 "nbformat_minor": 4
}
